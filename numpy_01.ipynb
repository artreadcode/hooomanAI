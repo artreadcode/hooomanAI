{
  "nbformat": 4,
  "nbformat_minor": 0,
  "metadata": {
    "colab": {
      "name": "numpy_01.ipynb",
      "provenance": []
    },
    "kernelspec": {
      "name": "python3",
      "display_name": "Python 3"
    }
  },
  "cells": [
    {
      "cell_type": "markdown",
      "metadata": {
        "id": "achHaWhbu3gr"
      },
      "source": [
        "# 넘파이와 함께 땅따먹기를-01 \n",
        "#### 인문학적 시선으로 인공지능 파헤치기-07"
      ]
    },
    {
      "cell_type": "markdown",
      "metadata": {
        "id": "BjR91RBtuwe2"
      },
      "source": [
        "<table align=\"left\">\n",
        "  <td>\n",
        "    <a target=\"_blank\" href=\"https://colab.research.google.com/drive/1UGXxY8yXL-JyOIfEmlfaMCeRMBtQ3VUq#scrollTo=BjR91RBtuwe2\"><img src=\"https://www.tensorflow.org/images/colab_logo_32px.png\" />구글 코랩에서 실행하기</a>\n",
        "  </td>\n",
        "</table>"
      ]
    },
    {
      "cell_type": "markdown",
      "metadata": {
        "id": "OaE29GQmxNGt"
      },
      "source": [
        "# 데이터 타입"
      ]
    },
    {
      "cell_type": "code",
      "metadata": {
        "id": "pYExh3hjvSrn"
      },
      "source": [
        "# 대부분의 방식으로 변수 선언: int a = 8\n",
        "a = 8 # 파이썬의 변수 선언\n",
        "a = 'snowman' # 한 번 데이터를 담았던 변수에 다른 형태의 데이터를 담아도 OK."
      ],
      "execution_count": 2,
      "outputs": []
    },
    {
      "cell_type": "code",
      "metadata": {
        "id": "AdoyYcn4vf_L",
        "outputId": "859feaab-8df0-4cfd-cee1-b9bf7d8f8748",
        "colab": {
          "base_uri": "https://localhost:8080/"
        }
      },
      "source": [
        "import numpy as np\n",
        "\n",
        "myList = [1, [2, 3], 'counting numbers'] # 가능\n",
        "np.array([1, [2, 3], 'impossible']) # 의도치 않은 결과\n",
        "# 데이터 타입이 우리가 의도한 정수형 하나, 리스트 하나, 문자열 하나가 아닌 '객체'라는 것에 주목."
      ],
      "execution_count": 3,
      "outputs": [
        {
          "output_type": "execute_result",
          "data": {
            "text/plain": [
              "array([1, list([2, 3]), 'impossible'], dtype=object)"
            ]
          },
          "metadata": {
            "tags": []
          },
          "execution_count": 3
        }
      ]
    },
    {
      "cell_type": "markdown",
      "metadata": {
        "id": "tZOgK2-kxKMB"
      },
      "source": [
        "# 넘파이 배열 만들기"
      ]
    },
    {
      "cell_type": "code",
      "metadata": {
        "id": "Iz_4Gei3vutj",
        "outputId": "9b29ffff-0d5d-44c0-b19d-ce401ff4c4f5",
        "colab": {
          "base_uri": "https://localhost:8080/"
        }
      },
      "source": [
        "example = np.array([1, 2, 3, 4, 5])\n",
        "example"
      ],
      "execution_count": 6,
      "outputs": [
        {
          "output_type": "execute_result",
          "data": {
            "text/plain": [
              "array([1, 2, 3, 4, 5])"
            ]
          },
          "metadata": {
            "tags": []
          },
          "execution_count": 6
        }
      ]
    },
    {
      "cell_type": "code",
      "metadata": {
        "id": "v6ji5dORvzRA",
        "outputId": "a1f9880d-d499-48f7-d33b-7c1abea37ff9",
        "colab": {
          "base_uri": "https://localhost:8080/"
        }
      },
      "source": [
        "zero =np.zeros(5, dtype = int)\n",
        "zero"
      ],
      "execution_count": 5,
      "outputs": [
        {
          "output_type": "execute_result",
          "data": {
            "text/plain": [
              "array([0, 0, 0, 0, 0])"
            ]
          },
          "metadata": {
            "tags": []
          },
          "execution_count": 5
        }
      ]
    },
    {
      "cell_type": "code",
      "metadata": {
        "id": "KOOhB2MJv5aw",
        "outputId": "e09802d3-d19a-4683-def3-3fbaadebfcee",
        "colab": {
          "base_uri": "https://localhost:8080/"
        }
      },
      "source": [
        "one = np.ones(5, dtype = int)\n",
        "one"
      ],
      "execution_count": 7,
      "outputs": [
        {
          "output_type": "execute_result",
          "data": {
            "text/plain": [
              "array([1, 1, 1, 1, 1])"
            ]
          },
          "metadata": {
            "tags": []
          },
          "execution_count": 7
        }
      ]
    },
    {
      "cell_type": "code",
      "metadata": {
        "id": "FHWQrgnwv9Je",
        "outputId": "7dadf89b-216a-4729-87bd-dbca977eac0d",
        "colab": {
          "base_uri": "https://localhost:8080/"
        }
      },
      "source": [
        "one_again = np.ones((2, 4), dtype = float)\n",
        "one_again\n",
        "# float형이니 소수점이 붙는다."
      ],
      "execution_count": 9,
      "outputs": [
        {
          "output_type": "execute_result",
          "data": {
            "text/plain": [
              "array([[1., 1., 1., 1.],\n",
              "       [1., 1., 1., 1.]])"
            ]
          },
          "metadata": {
            "tags": []
          },
          "execution_count": 9
        }
      ]
    },
    {
      "cell_type": "code",
      "metadata": {
        "id": "62-hJWVGwGt6",
        "outputId": "253ff8c1-7317-4274-ed10-e31c23284a7b",
        "colab": {
          "base_uri": "https://localhost:8080/"
        }
      },
      "source": [
        "full_of_eight = np.full((2, 4), 8)\n",
        "full_of_eight"
      ],
      "execution_count": 10,
      "outputs": [
        {
          "output_type": "execute_result",
          "data": {
            "text/plain": [
              "array([[8, 8, 8, 8],\n",
              "       [8, 8, 8, 8]])"
            ]
          },
          "metadata": {
            "tags": []
          },
          "execution_count": 10
        }
      ]
    },
    {
      "cell_type": "code",
      "metadata": {
        "id": "6rJ3uzLqwN2p",
        "outputId": "f7e458a0-1948-4297-b9d7-8608d28374b4",
        "colab": {
          "base_uri": "https://localhost:8080/"
        }
      },
      "source": [
        "similar_to_range = np.arange(0, 30, 3)\n",
        "similar_to_range\n",
        "# 파이썬의 내장 함수인 range()와 흡사한 기능."
      ],
      "execution_count": 12,
      "outputs": [
        {
          "output_type": "execute_result",
          "data": {
            "text/plain": [
              "array([ 0,  3,  6,  9, 12, 15, 18, 21, 24, 27])"
            ]
          },
          "metadata": {
            "tags": []
          },
          "execution_count": 12
        }
      ]
    },
    {
      "cell_type": "code",
      "metadata": {
        "id": "aKjFeT-Ywx9T",
        "outputId": "0ea76561-b8c8-467a-ac51-ddbfedb830ba",
        "colab": {
          "base_uri": "https://localhost:8080/"
        }
      },
      "source": [
        "lucky_seven = np.linspace(0, 30, 7)\n",
        "lucky_seven"
      ],
      "execution_count": 13,
      "outputs": [
        {
          "output_type": "execute_result",
          "data": {
            "text/plain": [
              "array([ 0.,  5., 10., 15., 20., 25., 30.])"
            ]
          },
          "metadata": {
            "tags": []
          },
          "execution_count": 13
        }
      ]
    },
    {
      "cell_type": "code",
      "metadata": {
        "id": "fsxYUq9aw41b",
        "outputId": "22f14681-2ea2-4144-fe26-6c455beab23b",
        "colab": {
          "base_uri": "https://localhost:8080/"
        }
      },
      "source": [
        "np.eye(3) # 단위행렬은 이렇게 생겼다."
      ],
      "execution_count": 14,
      "outputs": [
        {
          "output_type": "execute_result",
          "data": {
            "text/plain": [
              "array([[1., 0., 0.],\n",
              "       [0., 1., 0.],\n",
              "       [0., 0., 1.]])"
            ]
          },
          "metadata": {
            "tags": []
          },
          "execution_count": 14
        }
      ]
    },
    {
      "cell_type": "code",
      "metadata": {
        "id": "hfgZGvB7w9QR",
        "outputId": "d2bef968-4fed-4c12-bf7f-0be474abbd91",
        "colab": {
          "base_uri": "https://localhost:8080/"
        }
      },
      "source": [
        "np.empty(5) # 메모리 주소에 들어 있던 아무 값이나 일단 집어넣는다."
      ],
      "execution_count": 15,
      "outputs": [
        {
          "output_type": "execute_result",
          "data": {
            "text/plain": [
              "array([1.9686421e-316, 0.0000000e+000, 0.0000000e+000, 0.0000000e+000,\n",
              "       0.0000000e+000])"
            ]
          },
          "metadata": {
            "tags": []
          },
          "execution_count": 15
        }
      ]
    },
    {
      "cell_type": "markdown",
      "metadata": {
        "id": "8TqhOv7yxFRq"
      },
      "source": [
        "# 넘파이 배열의 호패"
      ]
    },
    {
      "cell_type": "code",
      "metadata": {
        "id": "Cy7_gAC7iZNV"
      },
      "source": [
        "x1 = np.random.randint(10, size = 5)"
      ],
      "execution_count": null,
      "outputs": []
    },
    {
      "cell_type": "code",
      "metadata": {
        "id": "RoI6bhz1if33",
        "outputId": "7efb8005-d600-44df-ca08-c0eb1751ce82",
        "colab": {
          "base_uri": "https://localhost:8080/"
        }
      },
      "source": [
        "print(x1.ndim)"
      ],
      "execution_count": null,
      "outputs": [
        {
          "output_type": "stream",
          "text": [
            "1\n"
          ],
          "name": "stdout"
        }
      ]
    },
    {
      "cell_type": "code",
      "metadata": {
        "id": "q0zGRYJNjBTP",
        "outputId": "439f4d7d-47b2-4cdf-b6e4-6eab90835dd3",
        "colab": {
          "base_uri": "https://localhost:8080/"
        }
      },
      "source": [
        "print(x1.shape)"
      ],
      "execution_count": null,
      "outputs": [
        {
          "output_type": "stream",
          "text": [
            "(5,)\n"
          ],
          "name": "stdout"
        }
      ]
    },
    {
      "cell_type": "code",
      "metadata": {
        "id": "n4x4BRxJkapG",
        "outputId": "1db797b4-469d-417f-bccf-00a2984fede7",
        "colab": {
          "base_uri": "https://localhost:8080/"
        }
      },
      "source": [
        "print(x1.size)"
      ],
      "execution_count": null,
      "outputs": [
        {
          "output_type": "stream",
          "text": [
            "5\n"
          ],
          "name": "stdout"
        }
      ]
    },
    {
      "cell_type": "code",
      "metadata": {
        "id": "ZC9x8465kdJ4",
        "outputId": "10eba42b-06f6-4227-a4a7-766bfde27a4b",
        "colab": {
          "base_uri": "https://localhost:8080/"
        }
      },
      "source": [
        "# 추가: 다른 차원이라면 어떻게 출력될까?\n",
        "x2 = np.random.randint(10, size = (2, 4))\n",
        "x2"
      ],
      "execution_count": 16,
      "outputs": [
        {
          "output_type": "execute_result",
          "data": {
            "text/plain": [
              "array([[9, 1, 0, 6],\n",
              "       [7, 5, 7, 2]])"
            ]
          },
          "metadata": {
            "tags": []
          },
          "execution_count": 16
        }
      ]
    },
    {
      "cell_type": "code",
      "metadata": {
        "id": "1JeNk2DMxafT",
        "outputId": "1a32b79d-cc71-4e0d-aa9d-48002e398500",
        "colab": {
          "base_uri": "https://localhost:8080/"
        }
      },
      "source": [
        "print(x2.ndim)"
      ],
      "execution_count": 17,
      "outputs": [
        {
          "output_type": "stream",
          "text": [
            "2\n"
          ],
          "name": "stdout"
        }
      ]
    },
    {
      "cell_type": "code",
      "metadata": {
        "id": "GBy__jVbxcRi",
        "outputId": "566d6851-2ea6-4220-a1be-39e836007276",
        "colab": {
          "base_uri": "https://localhost:8080/"
        }
      },
      "source": [
        "print(x2.shape)"
      ],
      "execution_count": 18,
      "outputs": [
        {
          "output_type": "stream",
          "text": [
            "(2, 4)\n"
          ],
          "name": "stdout"
        }
      ]
    },
    {
      "cell_type": "code",
      "metadata": {
        "id": "XL_ek7FWxdY6",
        "outputId": "a4218cb9-3b74-431e-ec1d-a496070f6dd8",
        "colab": {
          "base_uri": "https://localhost:8080/"
        }
      },
      "source": [
        "print(x2.size)"
      ],
      "execution_count": 19,
      "outputs": [
        {
          "output_type": "stream",
          "text": [
            "8\n"
          ],
          "name": "stdout"
        }
      ]
    },
    {
      "cell_type": "code",
      "metadata": {
        "id": "TjEj7CHixep8",
        "outputId": "9ad98adb-e2ae-48ce-cf60-5fb3ce64e771",
        "colab": {
          "base_uri": "https://localhost:8080/"
        }
      },
      "source": [
        "x3 = np.random.randint(100, size = (4, 2, 5))\n",
        "x3"
      ],
      "execution_count": 20,
      "outputs": [
        {
          "output_type": "execute_result",
          "data": {
            "text/plain": [
              "array([[[83, 39, 43, 59, 23],\n",
              "        [13, 70,  8, 61, 31]],\n",
              "\n",
              "       [[57, 65, 16, 75, 61],\n",
              "        [96, 58, 85,  6, 15]],\n",
              "\n",
              "       [[32, 49, 70, 57, 69],\n",
              "        [68, 89, 49, 19, 69]],\n",
              "\n",
              "       [[66, 73, 66,  8, 85],\n",
              "        [55, 31, 50, 54, 48]]])"
            ]
          },
          "metadata": {
            "tags": []
          },
          "execution_count": 20
        }
      ]
    },
    {
      "cell_type": "code",
      "metadata": {
        "id": "NWrqtK5oxn50",
        "outputId": "03c8c7ed-a387-45a5-bb3b-da49ec9bf7d4",
        "colab": {
          "base_uri": "https://localhost:8080/"
        }
      },
      "source": [
        "print(x3.ndim)"
      ],
      "execution_count": 21,
      "outputs": [
        {
          "output_type": "stream",
          "text": [
            "3\n"
          ],
          "name": "stdout"
        }
      ]
    },
    {
      "cell_type": "code",
      "metadata": {
        "id": "BngqwF1Yxp2R",
        "outputId": "11dcd027-7a38-4534-c47b-f79151615da0",
        "colab": {
          "base_uri": "https://localhost:8080/"
        }
      },
      "source": [
        "print(x3.shape)"
      ],
      "execution_count": 22,
      "outputs": [
        {
          "output_type": "stream",
          "text": [
            "(4, 2, 5)\n"
          ],
          "name": "stdout"
        }
      ]
    },
    {
      "cell_type": "code",
      "metadata": {
        "id": "HIjGixB7xq-s",
        "outputId": "577caa52-b444-4686-c0b8-029a6be6b1d4",
        "colab": {
          "base_uri": "https://localhost:8080/"
        }
      },
      "source": [
        "print(x3.size)"
      ],
      "execution_count": 23,
      "outputs": [
        {
          "output_type": "stream",
          "text": [
            "40\n"
          ],
          "name": "stdout"
        }
      ]
    }
  ]
}